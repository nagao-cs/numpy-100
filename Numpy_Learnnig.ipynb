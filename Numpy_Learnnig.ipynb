{
  "nbformat": 4,
  "nbformat_minor": 0,
  "metadata": {
    "colab": {
      "provenance": [],
      "authorship_tag": "ABX9TyN+9Cri5+zGDTrnGJSbein7",
      "include_colab_link": true
    },
    "kernelspec": {
      "name": "python3",
      "display_name": "Python 3"
    },
    "language_info": {
      "name": "python"
    }
  },
  "cells": [
    {
      "cell_type": "markdown",
      "metadata": {
        "id": "view-in-github",
        "colab_type": "text"
      },
      "source": [
        "<a href=\"https://colab.research.google.com/github/nagao-cs/numpy-100/blob/master/Numpy_Learnnig.ipynb\" target=\"_parent\"><img src=\"https://colab.research.google.com/assets/colab-badge.svg\" alt=\"Open In Colab\"/></a>"
      ]
    },
    {
      "cell_type": "code",
      "execution_count": 2,
      "metadata": {
        "id": "Q17h44ex5hLh"
      },
      "outputs": [],
      "source": [
        "import numpy as np"
      ]
    },
    {
      "cell_type": "code",
      "source": [
        "a = np.array([1, 2, 3])\n",
        "print(a)"
      ],
      "metadata": {
        "colab": {
          "base_uri": "https://localhost:8080/"
        },
        "id": "3Frei3_yLG9W",
        "outputId": "7444ea68-fee9-488c-bd05-28e6bd561976"
      },
      "execution_count": 4,
      "outputs": [
        {
          "output_type": "stream",
          "name": "stdout",
          "text": [
            "[1 2 3]\n"
          ]
        }
      ]
    },
    {
      "cell_type": "code",
      "source": [
        "print(a.shape)\n",
        "print(a.ndim)\n",
        "print(a.size)"
      ],
      "metadata": {
        "colab": {
          "base_uri": "https://localhost:8080/"
        },
        "id": "cWIis5njLUsg",
        "outputId": "3983f486-85f9-4279-951f-eda45260e8dd"
      },
      "execution_count": 12,
      "outputs": [
        {
          "output_type": "stream",
          "name": "stdout",
          "text": [
            "(3,)\n",
            "1\n",
            "3\n"
          ]
        }
      ]
    },
    {
      "cell_type": "code",
      "source": [
        "b = np.array([[1, 2, 3], [4, 5, 6], [7, 8, 9]])\n",
        "print(b)"
      ],
      "metadata": {
        "colab": {
          "base_uri": "https://localhost:8080/"
        },
        "id": "j7PlLfrRLeMf",
        "outputId": "8673c511-e850-4efd-8daf-6b549f91ebbe"
      },
      "execution_count": 9,
      "outputs": [
        {
          "output_type": "stream",
          "name": "stdout",
          "text": [
            "[[1 2 3]\n",
            " [4 5 6]\n",
            " [7 8 9]]\n"
          ]
        }
      ]
    },
    {
      "cell_type": "code",
      "source": [
        "print(b.shape)\n",
        "print(b.ndim)\n",
        "print(b.size)"
      ],
      "metadata": {
        "colab": {
          "base_uri": "https://localhost:8080/"
        },
        "id": "tk-u4QzRL1C0",
        "outputId": "ed7854bc-c69f-4fe3-d7a6-18d0e61738b0"
      },
      "execution_count": 11,
      "outputs": [
        {
          "output_type": "stream",
          "name": "stdout",
          "text": [
            "(3, 3)\n",
            "2\n",
            "9\n"
          ]
        }
      ]
    },
    {
      "cell_type": "code",
      "source": [
        "a = np.zeros((3, 3), dtype=int)\n",
        "print(a)"
      ],
      "metadata": {
        "colab": {
          "base_uri": "https://localhost:8080/"
        },
        "id": "At1TrrkGL3_P",
        "outputId": "bd00161a-316f-44ee-a3f4-cec7fb8bf7fc"
      },
      "execution_count": 13,
      "outputs": [
        {
          "output_type": "stream",
          "name": "stdout",
          "text": [
            "[[0 0 0]\n",
            " [0 0 0]\n",
            " [0 0 0]]\n"
          ]
        }
      ]
    },
    {
      "cell_type": "code",
      "source": [
        "b = np.ones((2,3))\n",
        "print(b)"
      ],
      "metadata": {
        "colab": {
          "base_uri": "https://localhost:8080/"
        },
        "id": "ru4K1ka9MUD6",
        "outputId": "8b989983-b3ac-4b49-9c5b-2f03c03c3502"
      },
      "execution_count": 15,
      "outputs": [
        {
          "output_type": "stream",
          "name": "stdout",
          "text": [
            "[[1. 1. 1.]\n",
            " [1. 1. 1.]]\n"
          ]
        }
      ]
    },
    {
      "cell_type": "code",
      "source": [
        "c = np.full((3, 3), 9)\n",
        "print(c)"
      ],
      "metadata": {
        "colab": {
          "base_uri": "https://localhost:8080/"
        },
        "id": "Rcduc65cMbN2",
        "outputId": "0eadded6-b44b-4583-b633-a68b72bea56c"
      },
      "execution_count": 16,
      "outputs": [
        {
          "output_type": "stream",
          "name": "stdout",
          "text": [
            "[[9 9 9]\n",
            " [9 9 9]\n",
            " [9 9 9]]\n"
          ]
        }
      ]
    },
    {
      "cell_type": "code",
      "source": [
        "d = np.eye(5)\n",
        "print(d)"
      ],
      "metadata": {
        "colab": {
          "base_uri": "https://localhost:8080/"
        },
        "id": "KlZdVyb6MmoS",
        "outputId": "b9ad50e4-8aea-47cf-822e-3ca5450aa713"
      },
      "execution_count": 17,
      "outputs": [
        {
          "output_type": "stream",
          "name": "stdout",
          "text": [
            "[[1. 0. 0. 0. 0.]\n",
            " [0. 1. 0. 0. 0.]\n",
            " [0. 0. 1. 0. 0.]\n",
            " [0. 0. 0. 1. 0.]\n",
            " [0. 0. 0. 0. 1.]]\n"
          ]
        }
      ]
    },
    {
      "cell_type": "code",
      "source": [
        "e = np.random.random((5, 4))\n",
        "print(e)"
      ],
      "metadata": {
        "colab": {
          "base_uri": "https://localhost:8080/"
        },
        "id": "SgaR5c5aMqpJ",
        "outputId": "fe28fbae-c6be-4fa1-95b8-3d55e4d3b868"
      },
      "execution_count": 24,
      "outputs": [
        {
          "output_type": "stream",
          "name": "stdout",
          "text": [
            "[[0.4820694  0.13444454 0.80725326 0.52556287]\n",
            " [0.03074458 0.80793317 0.63572442 0.47435492]\n",
            " [0.9809397  0.4911884  0.95127493 0.91156458]\n",
            " [0.18498379 0.75436167 0.43394848 0.63343159]\n",
            " [0.40359491 0.24102127 0.37209305 0.41773671]]\n"
          ]
        }
      ]
    },
    {
      "cell_type": "code",
      "source": [
        "f = np.arange(3, 10, 2)\n",
        "print(f)"
      ],
      "metadata": {
        "colab": {
          "base_uri": "https://localhost:8080/"
        },
        "id": "SFLHBIs6Mym4",
        "outputId": "26beaa35-2c00-4545-e83b-09a881edc5b6"
      },
      "execution_count": 19,
      "outputs": [
        {
          "output_type": "stream",
          "name": "stdout",
          "text": [
            "[3 5 7 9]\n"
          ]
        }
      ]
    },
    {
      "cell_type": "code",
      "source": [
        "val = e[2, 1]\n",
        "print(val)"
      ],
      "metadata": {
        "colab": {
          "base_uri": "https://localhost:8080/"
        },
        "id": "28eJNWQUM4Sb",
        "outputId": "925e561e-bab2-47b0-fd8a-d6a40ed8efcb"
      },
      "execution_count": 20,
      "outputs": [
        {
          "output_type": "stream",
          "name": "stdout",
          "text": [
            "0.01941320546862879\n"
          ]
        }
      ]
    },
    {
      "cell_type": "code",
      "source": [
        "center = d[1:3, 1:4]\n",
        "print(center)\n",
        "print(center.shape)"
      ],
      "metadata": {
        "colab": {
          "base_uri": "https://localhost:8080/"
        },
        "id": "p6vxD0rNNHtH",
        "outputId": "f6d48b0c-6778-446e-ce33-15958667e8dc"
      },
      "execution_count": 23,
      "outputs": [
        {
          "output_type": "stream",
          "name": "stdout",
          "text": [
            "[[1. 0. 0.]\n",
            " [0. 1. 0.]]\n",
            "(2, 3)\n"
          ]
        }
      ]
    },
    {
      "cell_type": "code",
      "source": [
        "e[1:len(e), 1:len(e[0]-2)] = 0\n",
        "print(e)\n",
        "print(len(e))\n",
        "print(len(e[0]))"
      ],
      "metadata": {
        "colab": {
          "base_uri": "https://localhost:8080/"
        },
        "id": "reCwjomCNSjq",
        "outputId": "6c6114c1-c827-4696-fb62-e571df026bfc"
      },
      "execution_count": 34,
      "outputs": [
        {
          "output_type": "stream",
          "name": "stdout",
          "text": [
            "[[0.4820694  0.13444454 0.80725326 0.52556287]\n",
            " [0.03074458 0.         0.         0.        ]\n",
            " [0.9809397  0.         0.         0.        ]\n",
            " [0.18498379 0.         0.         0.        ]\n",
            " [0.40359491 0.         0.         0.        ]]\n",
            "5\n",
            "4\n"
          ]
        }
      ]
    },
    {
      "cell_type": "code",
      "source": [
        "a = np.array([[1, 2, 3], [4, 5, 6], [7, 8, 9]])\n",
        "print(a)\n",
        "print(np.array([a[0,1], a[2,1], a[1,0]]))\n",
        "print(a[[0, 2, 1], [1, 1, 0]])"
      ],
      "metadata": {
        "colab": {
          "base_uri": "https://localhost:8080/"
        },
        "id": "eAGAeIkQNq2I",
        "outputId": "734ad24b-6cfd-418f-ee8e-23621806d4c0"
      },
      "execution_count": 39,
      "outputs": [
        {
          "output_type": "stream",
          "name": "stdout",
          "text": [
            "[[1 2 3]\n",
            " [4 5 6]\n",
            " [7 8 9]]\n",
            "[2 8 4]\n",
            "[2 8 4]\n"
          ]
        }
      ]
    },
    {
      "cell_type": "code",
      "source": [
        "x = np.arange(3)\n",
        "x.dtype"
      ],
      "metadata": {
        "colab": {
          "base_uri": "https://localhost:8080/"
        },
        "id": "uJggPKvyOftB",
        "outputId": "9e513351-6a19-49ea-c067-7246a07b79f8"
      },
      "execution_count": 40,
      "outputs": [
        {
          "output_type": "execute_result",
          "data": {
            "text/plain": [
              "dtype('int64')"
            ]
          },
          "metadata": {},
          "execution_count": 40
        }
      ]
    },
    {
      "cell_type": "code",
      "source": [
        "y = np.arange(3.0)\n",
        "print(y)\n",
        "y.dtype"
      ],
      "metadata": {
        "colab": {
          "base_uri": "https://localhost:8080/"
        },
        "id": "nKwG9wG2PIi4",
        "outputId": "d2761777-349f-48b6-9c11-0a6084795ae5"
      },
      "execution_count": 42,
      "outputs": [
        {
          "output_type": "stream",
          "name": "stdout",
          "text": [
            "[0. 1. 2.]\n"
          ]
        },
        {
          "output_type": "execute_result",
          "data": {
            "text/plain": [
              "dtype('float64')"
            ]
          },
          "metadata": {},
          "execution_count": 42
        }
      ]
    },
    {
      "cell_type": "code",
      "source": [
        "x = np.arange(1, 5, 1, dtype=np.float32)\n",
        "print(x)\n",
        "x.dtype\n",
        "\n",
        "x = x.astype(np.int64)\n",
        "print(x, x.dtype)"
      ],
      "metadata": {
        "colab": {
          "base_uri": "https://localhost:8080/"
        },
        "id": "ifaYqiR9PPQl",
        "outputId": "94cced06-60d2-4635-8a47-6c41747d00eb"
      },
      "execution_count": 45,
      "outputs": [
        {
          "output_type": "stream",
          "name": "stdout",
          "text": [
            "[1. 2. 3. 4.]\n",
            "[1 2 3 4] int64\n"
          ]
        }
      ]
    },
    {
      "cell_type": "code",
      "source": [
        "a = np.arange(1,10).reshape(3, 3)\n",
        "b = np.arange(1, 10).reshape(3, 3)\n",
        "c = a + b\n",
        "print(c)\n",
        "c = a - b\n",
        "print(c)\n",
        "c = a * b\n",
        "print(c)\n",
        "c = a / b\n",
        "print(c)"
      ],
      "metadata": {
        "colab": {
          "base_uri": "https://localhost:8080/"
        },
        "id": "bzTIkhFuPsKb",
        "outputId": "95658c98-02ed-4a32-fdd9-405935c04669"
      },
      "execution_count": 49,
      "outputs": [
        {
          "output_type": "stream",
          "name": "stdout",
          "text": [
            "[[ 2  4  6]\n",
            " [ 8 10 12]\n",
            " [14 16 18]]\n",
            "[[0 0 0]\n",
            " [0 0 0]\n",
            " [0 0 0]]\n",
            "[[ 1  4  9]\n",
            " [16 25 36]\n",
            " [49 64 81]]\n",
            "[[1. 1. 1.]\n",
            " [1. 1. 1.]\n",
            " [1. 1. 1.]]\n"
          ]
        }
      ]
    },
    {
      "cell_type": "code",
      "source": [
        "c = np.sqrt(b)\n",
        "print(c)\n",
        "c = np.power(b, 2)\n",
        "print(c == b**2)"
      ],
      "metadata": {
        "colab": {
          "base_uri": "https://localhost:8080/"
        },
        "id": "N8LuBfVQRKpu",
        "outputId": "5323b0e7-4256-4d70-9623-539abb1c70aa"
      },
      "execution_count": 52,
      "outputs": [
        {
          "output_type": "stream",
          "name": "stdout",
          "text": [
            "[[1.         1.41421356 1.73205081]\n",
            " [2.         2.23606798 2.44948974]\n",
            " [2.64575131 2.82842712 3.        ]]\n",
            "[[ True  True  True]\n",
            " [ True  True  True]\n",
            " [ True  True  True]]\n"
          ]
        }
      ]
    },
    {
      "cell_type": "code",
      "source": [
        "b = np.arange(1, 4)\n",
        "c = a + b\n",
        "print(c)"
      ],
      "metadata": {
        "colab": {
          "base_uri": "https://localhost:8080/"
        },
        "id": "Y5EVtouORjh6",
        "outputId": "9e7c1e5a-9f05-4d71-dd44-d2e7eb7f8b28"
      },
      "execution_count": 53,
      "outputs": [
        {
          "output_type": "stream",
          "name": "stdout",
          "text": [
            "[[ 2  4  6]\n",
            " [ 5  7  9]\n",
            " [ 8 10 12]]\n"
          ]
        }
      ]
    },
    {
      "cell_type": "code",
      "source": [
        "a = np.arange(1, 4)\n",
        "print(a)\n",
        "b = np.full((3), 2)\n",
        "print(b)\n",
        "c = a * b\n",
        "print(c)\n",
        "print(a * 2)"
      ],
      "metadata": {
        "colab": {
          "base_uri": "https://localhost:8080/"
        },
        "id": "kCPoGk99S7Lu",
        "outputId": "b32619ba-7242-4a1a-f24e-1d356be3ca4e"
      },
      "execution_count": 55,
      "outputs": [
        {
          "output_type": "stream",
          "name": "stdout",
          "text": [
            "[1 2 3]\n",
            "[2 2 2]\n",
            "[2 4 6]\n",
            "[2 4 6]\n"
          ]
        }
      ]
    },
    {
      "cell_type": "code",
      "source": [
        "a = np.random.randint(0, 10, (2, 1, 3))\n",
        "b = np.random.randint(0, 10, (3, 1))\n",
        "print(a, a.shape)\n",
        "print(b, b.shape)\n",
        "\n",
        "c = a + b\n",
        "print(c, c.shape)\n"
      ],
      "metadata": {
        "colab": {
          "base_uri": "https://localhost:8080/"
        },
        "id": "1_96yHhYUl9M",
        "outputId": "902dd92f-5817-42c1-ac1d-aed374af65b1"
      },
      "execution_count": 58,
      "outputs": [
        {
          "output_type": "stream",
          "name": "stdout",
          "text": [
            "[[[0 6 9]]\n",
            "\n",
            " [[3 0 0]]] (2, 1, 3)\n",
            "[[0]\n",
            " [6]\n",
            " [0]] (3, 1)\n",
            "[[[ 0  6  9]\n",
            "  [ 6 12 15]\n",
            "  [ 0  6  9]]\n",
            "\n",
            " [[ 3  0  0]\n",
            "  [ 9  6  6]\n",
            "  [ 3  0  0]]] (2, 3, 3)\n"
          ]
        }
      ]
    },
    {
      "cell_type": "code",
      "source": [
        "print(\"Original b:\", b.shape)\n",
        "b_expand = b[np.newaxis, :, :]\n",
        "print(\"Expanded b:\", b_expand.shape)\n",
        "b_expand_2 = b[:, np.newaxis, :]\n",
        "print(\"Expanded b:\", b_expand_2.shape)"
      ],
      "metadata": {
        "colab": {
          "base_uri": "https://localhost:8080/"
        },
        "id": "YpJa35tvVBby",
        "outputId": "f30a08b5-42cb-4e07-aa6d-0553805cdffd"
      },
      "execution_count": 59,
      "outputs": [
        {
          "output_type": "stream",
          "name": "stdout",
          "text": [
            "Original b: (3, 1)\n",
            "Expanded b: (1, 3, 1)\n",
            "Expanded b: (3, 1, 1)\n"
          ]
        }
      ]
    },
    {
      "cell_type": "code",
      "source": [
        "a = np.random.randint(0, 10, (5, 5))\n",
        "b = np.arange(1, 6)\n",
        "print(a, b)\n",
        "c = np.empty((5, 5))"
      ],
      "metadata": {
        "colab": {
          "base_uri": "https://localhost:8080/"
        },
        "id": "GxDAJSATVvLk",
        "outputId": "f19006bf-6f5c-444f-b4eb-1af72b1b729c"
      },
      "execution_count": 61,
      "outputs": [
        {
          "output_type": "stream",
          "name": "stdout",
          "text": [
            "[[9 2 4 9 7]\n",
            " [2 0 7 5 2]\n",
            " [7 9 0 7 5]\n",
            " [6 4 1 8 0]\n",
            " [1 6 4 7 8]] [1 2 3 4 5]\n"
          ]
        }
      ]
    },
    {
      "cell_type": "code",
      "source": [
        "%%timeit\n",
        "for i in range(a.shape[0]):\n",
        "  c[i, :] = a[i, :] + b"
      ],
      "metadata": {
        "colab": {
          "base_uri": "https://localhost:8080/"
        },
        "id": "rPYF_FjbWI2X",
        "outputId": "c0f667be-9a9d-4941-f599-e2ae11e54765"
      },
      "execution_count": 62,
      "outputs": [
        {
          "output_type": "stream",
          "name": "stdout",
          "text": [
            "9.09 µs ± 2.61 µs per loop (mean ± std. dev. of 7 runs, 100000 loops each)\n"
          ]
        }
      ]
    },
    {
      "cell_type": "code",
      "source": [
        "print(c)"
      ],
      "metadata": {
        "colab": {
          "base_uri": "https://localhost:8080/"
        },
        "id": "VLroc3sbWVrm",
        "outputId": "6ac8efef-3657-4979-ff21-fd45ae988952"
      },
      "execution_count": 63,
      "outputs": [
        {
          "output_type": "stream",
          "name": "stdout",
          "text": [
            "[[10.  4.  7. 13. 12.]\n",
            " [ 3.  2. 10.  9.  7.]\n",
            " [ 8. 11.  3. 11. 10.]\n",
            " [ 7.  6.  4. 12.  5.]\n",
            " [ 2.  8.  7. 11. 13.]]\n"
          ]
        }
      ]
    },
    {
      "cell_type": "code",
      "source": [
        "%%timeit\n",
        "c = a + b"
      ],
      "metadata": {
        "colab": {
          "base_uri": "https://localhost:8080/"
        },
        "id": "acw5666fWdzo",
        "outputId": "de5c3f27-84b6-46c0-c9b6-7792a8bbd6a0"
      },
      "execution_count": 64,
      "outputs": [
        {
          "output_type": "stream",
          "name": "stdout",
          "text": [
            "The slowest run took 4.59 times longer than the fastest. This could mean that an intermediate result is being cached.\n",
            "3.3 µs ± 1.51 µs per loop (mean ± std. dev. of 7 runs, 100000 loops each)\n"
          ]
        }
      ]
    },
    {
      "cell_type": "code",
      "source": [
        "a = np.arange(9).reshape(3, 3)\n",
        "b  =np.arange(1, 10).reshape(3, 3)\n",
        "c = np.dot(a, b)\n",
        "print(c)\n",
        "c = a.dot(b)\n",
        "print(c)\n",
        "c = a @ b\n",
        "print(c)"
      ],
      "metadata": {
        "colab": {
          "base_uri": "https://localhost:8080/"
        },
        "id": "TPyic7XcWobd",
        "outputId": "35d18e94-ed53-4e24-8a80-c5590f1097bd"
      },
      "execution_count": 67,
      "outputs": [
        {
          "output_type": "stream",
          "name": "stdout",
          "text": [
            "[[ 18  21  24]\n",
            " [ 54  66  78]\n",
            " [ 90 111 132]]\n",
            "[[ 18  21  24]\n",
            " [ 54  66  78]\n",
            " [ 90 111 132]]\n",
            "[[ 18  21  24]\n",
            " [ 54  66  78]\n",
            " [ 90 111 132]]\n"
          ]
        }
      ]
    },
    {
      "cell_type": "code",
      "source": [
        "x = np.random.randint(0, 10, (8, 10))\n",
        "print(x)"
      ],
      "metadata": {
        "colab": {
          "base_uri": "https://localhost:8080/"
        },
        "id": "Mc60F6LVXAVy",
        "outputId": "39c1d257-81a1-4d8f-fd15-d59e7711dfc2"
      },
      "execution_count": 68,
      "outputs": [
        {
          "output_type": "stream",
          "name": "stdout",
          "text": [
            "[[0 8 1 8 7 1 6 9 0 1]\n",
            " [0 0 4 4 9 8 5 7 4 9]\n",
            " [6 1 9 4 2 3 1 3 5 8]\n",
            " [8 4 4 2 4 5 9 6 2 6]\n",
            " [2 0 2 7 5 3 0 9 9 8]\n",
            " [5 9 3 2 0 6 9 2 9 1]\n",
            " [6 8 7 1 9 0 5 6 0 0]\n",
            " [2 7 5 7 6 4 7 6 7 8]]\n"
          ]
        }
      ]
    },
    {
      "cell_type": "code",
      "source": [
        "print(x.mean())\n",
        "print(x.var())\n",
        "print(x.std())\n",
        "print(x.max())\n",
        "print(x.min())"
      ],
      "metadata": {
        "colab": {
          "base_uri": "https://localhost:8080/"
        },
        "id": "L2ZfWa8mXVZv",
        "outputId": "fc21e6f7-f1a9-4fcb-90bd-297a838e9b0b"
      },
      "execution_count": 69,
      "outputs": [
        {
          "output_type": "stream",
          "name": "stdout",
          "text": [
            "4.6875\n",
            "9.23984375\n",
            "3.039711129367394\n",
            "9\n",
            "0\n"
          ]
        }
      ]
    },
    {
      "cell_type": "code",
      "source": [
        "print(x.mean(axis=1))"
      ],
      "metadata": {
        "colab": {
          "base_uri": "https://localhost:8080/"
        },
        "id": "lcqS_VQ0XfmA",
        "outputId": "b8d3c23e-b115-4f73-8ecf-148d1dc988e6"
      },
      "execution_count": 70,
      "outputs": [
        {
          "output_type": "stream",
          "name": "stdout",
          "text": [
            "[4.1 5.  4.2 5.  4.5 4.6 4.2 5.9]\n"
          ]
        }
      ]
    },
    {
      "cell_type": "code",
      "source": [],
      "metadata": {
        "id": "c5FiyT5gXkVh"
      },
      "execution_count": null,
      "outputs": []
    }
  ]
}